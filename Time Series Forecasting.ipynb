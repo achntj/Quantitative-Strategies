{
 "cells": [
  {
   "cell_type": "code",
   "execution_count": 35,
   "id": "eee15026-6cbe-4e9d-a119-3ca14eed2b8c",
   "metadata": {},
   "outputs": [],
   "source": [
    "import pandas as pd\n",
    "import numpy as np\n",
    "import matplotlib.pyplot as plt\n",
    "import seaborn as sns\n",
    "from sklearn.ensemble import RandomForestClassifier\n",
    "from sklearn.model_selection import train_test_split, TimeSeriesSplit\n",
    "from sklearn.preprocessing import StandardScaler, RobustScaler\n",
    "from sklearn.metrics import confusion_matrix, classification_report, accuracy_score\n",
    "from xgboost import XGBClassifier\n",
    "from lightgbm import LGBMClassifier"
   ]
  },
  {
   "cell_type": "code",
   "execution_count": 4,
   "id": "6be334e6-4808-4432-8a1f-d53cf8fef12b",
   "metadata": {},
   "outputs": [],
   "source": [
    "adjusted_close = pd.read_csv('data/adj_close.csv', index_col=0, parse_dates=True)"
   ]
  },
  {
   "cell_type": "code",
   "execution_count": 5,
   "id": "7df696b6-e03c-4ddd-b9de-cbad2eb3614f",
   "metadata": {},
   "outputs": [
    {
     "data": {
      "text/plain": [
       "Date\n",
       "2015-06-24     52.450134\n",
       "2015-06-25     52.168957\n",
       "2015-06-26     52.396927\n",
       "2015-06-29     51.067074\n",
       "2015-06-30     51.492626\n",
       "                 ...    \n",
       "2025-06-13    264.950012\n",
       "2025-06-16    270.359985\n",
       "2025-06-17    269.519989\n",
       "2025-06-18    273.959991\n",
       "2025-06-20    275.000000\n",
       "Name: JPM, Length: 2513, dtype: float64"
      ]
     },
     "execution_count": 5,
     "metadata": {},
     "output_type": "execute_result"
    }
   ],
   "source": [
    "price_series = adjusted_close['JPM'].dropna()\n",
    "price_series"
   ]
  },
  {
   "cell_type": "code",
   "execution_count": 67,
   "id": "f9b8348c-28a4-4f21-b9f6-35f6abe1c043",
   "metadata": {},
   "outputs": [],
   "source": [
    "# feature creation\n",
    "\n",
    "lags = 5\n",
    "windows = [5, 10, 20, 50]\n",
    "\n",
    "dataset = pd.DataFrame(index=price_series.index) # just dates df\n",
    "\n",
    "for lag in range(1, lags+1):\n",
    "    # past returns over lag days\n",
    "    dataset[f'return_over_{lag}_days'] = price_series.pct_change(lag) \n",
    "\n",
    "for window in windows:\n",
    "    # moving average over last [window] days\n",
    "    dataset[f'mov_avg_{window}_days'] = price_series.rolling(window).mean()\n",
    "    # ratio of price to this moving average\n",
    "    dataset[f'mov_avg_ratio_{window}_days'] = price_series / dataset[f'mov_avg_{window}_days']\n",
    "\n",
    "for window in windows:\n",
    "    # daily returns volatility over window days\n",
    "    dataset[f'vol_over_{window}_days'] = price_series.pct_change().rolling(window).std()\n",
    "\n",
    "# Relative Strength Index\n",
    "for window in windows:\n",
    "    delta = price_series.diff()\n",
    "    gain = delta.where(delta > 0, 0)\n",
    "    avg_gain = gain.rolling(window).mean()\n",
    "    loss = delta.where(delta < 0, 0)\n",
    "    avg_loss = loss.rolling(window).mean()\n",
    "    # relative strengh\n",
    "    rs = avg_gain / avg_loss\n",
    "    dataset[f'rsi_{window}_days'] = 100 - (100 / (1 + rs))\n",
    "\n",
    "dataset.dropna(inplace=True)\n",
    "\n",
    "# target creation\n",
    "\n",
    "# shift pct changes and check if positive (1) or negative (0)\n",
    "dataset['target'] = (price_series.pct_change().shift(-1) > 0).astype(int)\n",
    "\n",
    "dataset.dropna(inplace=True) # features and targets have separate Nan values so combine and drop"
   ]
  },
  {
   "cell_type": "code",
   "execution_count": 71,
   "id": "cf8fc1c8-468d-4463-a1bd-327e155ca9db",
   "metadata": {
    "scrolled": true
   },
   "outputs": [
    {
     "name": "stdout",
     "output_type": "stream",
     "text": [
      "Infinite values per column:\n",
      "Series([], dtype: int64)\n"
     ]
    }
   ],
   "source": [
    "# rsi calculation can lead to divide by zero\n",
    "inf_counts = np.isinf(dataset).sum()\n",
    "print(\"Infinite values per column:\")\n",
    "print(inf_counts[inf_counts > 0])  # Only show columns with infinities (dropped in next cell)"
   ]
  },
  {
   "cell_type": "code",
   "execution_count": 70,
   "id": "e5429064-9c28-4977-bd40-743b7ef10280",
   "metadata": {},
   "outputs": [],
   "source": [
    "dataset = dataset.replace([np.inf, -np.inf], np.nan).dropna()"
   ]
  },
  {
   "cell_type": "code",
   "execution_count": 80,
   "id": "e34b8d39-359f-4fef-beaa-e9978193c235",
   "metadata": {},
   "outputs": [],
   "source": [
    "X = dataset.drop(columns=['target'])\n",
    "y = dataset['target']\n",
    "\n",
    "time_series_cv = TimeSeriesSplit(n_splits=5)\n",
    "\n",
    "for train_index, test_index in time_series_cv.split(X):\n",
    "    X_train, X_test = X.iloc[train_index], X.iloc[test_index]\n",
    "    y_train, y_test = y.iloc[train_index], y.iloc[test_index]"
   ]
  },
  {
   "cell_type": "code",
   "execution_count": 79,
   "id": "21f4e623-3913-4ce9-afd6-2c5f27e40970",
   "metadata": {},
   "outputs": [
    {
     "name": "stdout",
     "output_type": "stream",
     "text": [
      "Random Forest Accuracy: 0.43\n",
      "              precision    recall  f1-score   support\n",
      "\n",
      "           0       0.42      1.00      0.59       168\n",
      "           1       1.00      0.03      0.06       241\n",
      "\n",
      "    accuracy                           0.43       409\n",
      "   macro avg       0.71      0.51      0.32       409\n",
      "weighted avg       0.76      0.43      0.28       409\n",
      "\n",
      "XGBoost Accuracy: 0.42\n",
      "              precision    recall  f1-score   support\n",
      "\n",
      "           0       0.40      0.83      0.54       168\n",
      "           1       0.53      0.13      0.21       241\n",
      "\n",
      "    accuracy                           0.42       409\n",
      "   macro avg       0.47      0.48      0.38       409\n",
      "weighted avg       0.48      0.42      0.35       409\n",
      "\n",
      "[LightGBM] [Info] Number of positive: 1038, number of negative: 1012\n",
      "[LightGBM] [Info] Auto-choosing col-wise multi-threading, the overhead of testing was 0.000307 seconds.\n",
      "You can set `force_col_wise=true` to remove the overhead.\n",
      "[LightGBM] [Info] Total Bins 5355\n",
      "[LightGBM] [Info] Number of data points in the train set: 2050, number of used features: 21\n",
      "[LightGBM] [Info] [binary:BoostFromScore]: pavg=0.506341 -> initscore=0.025367\n",
      "[LightGBM] [Info] Start training from score 0.025367\n",
      "LightGBM Accuracy: 0.43\n",
      "              precision    recall  f1-score   support\n",
      "\n",
      "           0       0.41      0.88      0.56       168\n",
      "           1       0.59      0.12      0.21       241\n",
      "\n",
      "    accuracy                           0.43       409\n",
      "   macro avg       0.50      0.50      0.38       409\n",
      "weighted avg       0.52      0.43      0.35       409\n",
      "\n"
     ]
    },
    {
     "name": "stderr",
     "output_type": "stream",
     "text": [
      "/Users/achintyajha/miniconda3/envs/ml/lib/python3.9/site-packages/sklearn/utils/validation.py:2739: UserWarning: X does not have valid feature names, but LGBMClassifier was fitted with feature names\n",
      "  warnings.warn(\n",
      "/Users/achintyajha/miniconda3/envs/ml/lib/python3.9/site-packages/sklearn/utils/validation.py:2739: UserWarning: X does not have valid feature names, but LGBMClassifier was fitted with feature names\n",
      "  warnings.warn(\n"
     ]
    }
   ],
   "source": [
    "scaler = RobustScaler()\n",
    "X_train_s = scaler.fit_transform(X_train)\n",
    "X_test_s = scaler.transform(X_test) # used fit on accident earlier\n",
    "\n",
    "models = {\n",
    "    'Random Forest': RandomForestClassifier(n_estimators=100, random_state=42),\n",
    "    'XGBoost': XGBClassifier(n_estimators=100, random_state=42),\n",
    "    'LightGBM':  LGBMClassifier(n_estimators=100, random_state=42)\n",
    "}\n",
    "\n",
    "results = {}\n",
    "for name, model in models.items():\n",
    "    model.fit(X_train_s, y_train)\n",
    "    y_pred = model.predict(X_test_s)\n",
    "    #  # https://stackoverflow.com/questions/30056331/how-to-list-all-scikit-learn-classifiers-that-support-predict-proba\n",
    "    # some models don't have predict_proba - ignored for now\n",
    "    y_proba = model.predict_proba(X_test_s)[:, 1]\n",
    "\n",
    "    results[name] = {\n",
    "        'model': model,\n",
    "        'accuracy': accuracy_score(y_test, y_pred),\n",
    "        'classification_report': classification_report(y_test, y_pred),\n",
    "        'confusion_matrix': confusion_matrix(y_test, y_pred),\n",
    "        'predictions': y_pred,\n",
    "        'probabilities': y_proba\n",
    "    }\n",
    "\n",
    "    print(f\"{name} Accuracy: {results[name]['accuracy']:.2f}\")\n",
    "    print(classification_report(y_test, y_pred))"
   ]
  },
  {
   "cell_type": "code",
   "execution_count": 84,
   "id": "5696845c-5d2c-4ce3-96c4-abf263c121f3",
   "metadata": {},
   "outputs": [
    {
     "name": "stdout",
     "output_type": "stream",
     "text": [
      "Random Forest ROC-AUC: 0.50\n",
      "Random Forest Accuracy: 0.42\n",
      "              precision    recall  f1-score   support\n",
      "\n",
      "           0       0.41      0.96      0.58       168\n",
      "           1       0.63      0.05      0.09       241\n",
      "\n",
      "    accuracy                           0.42       409\n",
      "   macro avg       0.52      0.50      0.33       409\n",
      "weighted avg       0.54      0.42      0.29       409\n",
      "\n",
      "XGBoost ROC-AUC: 0.51\n",
      "XGBoost Accuracy: 0.43\n",
      "              precision    recall  f1-score   support\n",
      "\n",
      "           0       0.41      0.83      0.55       168\n",
      "           1       0.57      0.16      0.25       241\n",
      "\n",
      "    accuracy                           0.43       409\n",
      "   macro avg       0.49      0.49      0.40       409\n",
      "weighted avg       0.50      0.43      0.37       409\n",
      "\n",
      "[LightGBM] [Info] Number of positive: 1038, number of negative: 1012\n",
      "[LightGBM] [Info] Auto-choosing col-wise multi-threading, the overhead of testing was 0.000393 seconds.\n",
      "You can set `force_col_wise=true` to remove the overhead.\n",
      "[LightGBM] [Info] Total Bins 5355\n",
      "[LightGBM] [Info] Number of data points in the train set: 2050, number of used features: 21\n",
      "[LightGBM] [Info] [binary:BoostFromScore]: pavg=0.506341 -> initscore=0.025367\n",
      "[LightGBM] [Info] Start training from score 0.025367\n",
      "LightGBM ROC-AUC: 0.51\n",
      "LightGBM Accuracy: 0.42\n",
      "              precision    recall  f1-score   support\n",
      "\n",
      "           0       0.41      0.88      0.55       168\n",
      "           1       0.55      0.11      0.18       241\n",
      "\n",
      "    accuracy                           0.42       409\n",
      "   macro avg       0.48      0.49      0.37       409\n",
      "weighted avg       0.49      0.42      0.33       409\n",
      "\n"
     ]
    }
   ],
   "source": [
    "# scaler = RobustScaler()\n",
    "# X_train_s = scaler.fit_transform(X_train)\n",
    "# X_test_s = scaler.transform(X_test) # used fit on accident earlier\n",
    "X_train_s = pd.DataFrame(scaler.fit_transform(X_train), columns=X_train.columns)\n",
    "X_test_s = pd.DataFrame(scaler.transform(X_test), columns=X_test.columns)\n",
    "\n",
    "models = {\n",
    "    'Random Forest': RandomForestClassifier(n_estimators=100, random_state=42, class_weight='balanced'),\n",
    "    'XGBoost': XGBClassifier(n_estimators=100, random_state=42, scale_pos_weight=len(y_train[y_train==0])/len(y_train[y_train==1])),\n",
    "    'LightGBM':  LGBMClassifier(n_estimators=100, random_state=42, is_unbalance=True)\n",
    "}\n",
    "\n",
    "results = {}\n",
    "for name, model in models.items():\n",
    "    model.fit(X_train_s, y_train)\n",
    "    y_pred = model.predict(X_test_s)\n",
    "    #  https://stackoverflow.com/questions/30056331/how-to-list-all-scikit-learn-classifiers-that-support-predict-proba\n",
    "    # some models don't have predict_proba - ignored for now\n",
    "    y_proba = model.predict_proba(X_test_s)[:, 1]\n",
    "\n",
    "    results[name] = {\n",
    "        'model': model,\n",
    "        'accuracy': accuracy_score(y_test, y_pred),\n",
    "        'classification_report': classification_report(y_test, y_pred),\n",
    "        'confusion_matrix': confusion_matrix(y_test, y_pred),\n",
    "        'predictions': y_pred,\n",
    "        'probabilities': y_proba\n",
    "    }\n",
    "\n",
    "    results[name]['roc_auc'] = roc_auc_score(y_test, y_proba)\n",
    "    print(f\"{name} ROC-AUC: {results[name]['roc_auc']:.2f}\")\n",
    "    print(f\"{name} Accuracy: {results[name]['accuracy']:.2f}\")\n",
    "    print(classification_report(y_test, y_pred))"
   ]
  },
  {
   "cell_type": "code",
   "execution_count": 88,
   "id": "7d6a1238-6b65-4f0b-a1d8-2eb75028014d",
   "metadata": {},
   "outputs": [
    {
     "data": {
      "image/png": "[encoded data removed]",
      "text/plain": [
       "<Figure size 1000x600 with 1 Axes>"
      ]
     },
     "metadata": {},
     "output_type": "display_data"
    }
   ],
   "source": [
    "# Plot feature importance\n",
    "importances = pd.Series(best_xgb.feature_importances_, index=X_train.columns)\n",
    "importances.sort_values().plot.barh(figsize=(10, 6))\n",
    "plt.title(\"XGBoost Feature Importance\")\n",
    "plt.show()"
   ]
  },
  {
   "cell_type": "markdown",
   "id": "ab1686c0-b46c-418a-88a9-62ab5da7f446",
   "metadata": {},
   "source": [
    "## really poor results as of now"
   ]
  },
  {
   "cell_type": "code",
   "execution_count": null,
   "id": "e4f6ef58-1afd-458c-bf79-3d407d233417",
   "metadata": {},
   "outputs": [],
   "source": []
  }
 ],
 "metadata": {
  "kernelspec": {
   "display_name": "Python 3 (ipykernel)",
   "language": "python",
   "name": "python3"
  },
  "language_info": {
   "codemirror_mode": {
    "name": "ipython",
    "version": 3
   },
   "file_extension": ".py",
   "mimetype": "text/x-python",
   "name": "python",
   "nbconvert_exporter": "python",
   "pygments_lexer": "ipython3",
   "version": "3.9.22"
  }
 },
 "nbformat": 4,
 "nbformat_minor": 5
}
